{
 "cells": [
  {
   "cell_type": "code",
   "execution_count": 1,
   "metadata": {},
   "outputs": [],
   "source": [
    "from __future__ import absolute_import, division, print_function\n",
    "\n",
    "import tensorflow as tf\n",
    "\n",
    "tf.enable_eager_execution()"
   ]
  },
  {
   "cell_type": "code",
   "execution_count": 2,
   "metadata": {},
   "outputs": [
    {
     "name": "stdout",
     "output_type": "stream",
     "text": [
      "data/train\n"
     ]
    }
   ],
   "source": [
    "import pathlib\n",
    "\n",
    "data_root = 'data/train'\n",
    "data_root = pathlib.Path(data_root)\n",
    "\n",
    "print(data_root)"
   ]
  },
  {
   "cell_type": "code",
   "execution_count": 3,
   "metadata": {},
   "outputs": [
    {
     "name": "stdout",
     "output_type": "stream",
     "text": [
      "data/train/brontosaurus\n",
      "data/train/cougar_body\n",
      "data/train/crocodile\n",
      "data/train/elephant\n",
      "data/train/soccer_ball\n",
      "data/train/cannon\n",
      "data/train/wheelchair\n",
      "data/train/ketch\n",
      "data/train/scissors\n",
      "data/train/octopus\n",
      "data/train/metronome\n",
      "data/train/rhino\n",
      "data/train/sea_horse\n",
      "data/train/dragonfly\n",
      "data/train/llama\n",
      "data/train/scorpion\n",
      "data/train/saxophone\n",
      "data/train/emu\n",
      "data/train/inline_skate\n",
      "data/train/grand_piano\n",
      "data/train/tick\n",
      "data/train/pigeon\n",
      "data/train/strawberry\n",
      "data/train/Motorbikes\n",
      "data/train/wild_cat\n",
      "data/train/water_lilly\n",
      "data/train/ewer\n",
      "data/train/minaret\n",
      "data/train/starfish\n",
      "data/train/revolver\n",
      "data/train/stop_sign\n",
      "data/train/headphone\n",
      "data/train/snoopy\n",
      "data/train/sunflower\n",
      "data/train/lamp\n",
      "data/train/chandelier\n",
      "data/train/panda\n",
      "data/train/umbrella\n",
      "data/train/cup\n",
      "data/train/pagoda\n",
      "data/train/rooster\n",
      "data/train/buddha\n",
      "data/train/garfield\n",
      "data/train/Faces_easy\n",
      "data/train/flamingo\n",
      "data/train/windsor_chair\n",
      "data/train/joshua_tree\n",
      "data/train/pizza\n",
      "data/train/airplanes\n",
      "data/train/mayfly\n",
      "data/train/ferry\n",
      "data/train/chair\n",
      "data/train/cougar_face\n",
      "data/train/cellphone\n",
      "data/train/pyramid\n",
      "data/train/okapi\n",
      "data/train/barrel\n",
      "data/train/hedgehog\n",
      "data/train/crab\n",
      "data/train/mandolin\n",
      "data/train/brain\n",
      "data/train/binocular\n",
      "data/train/lobster\n",
      "data/train/dalmatian\n",
      "data/train/car_side\n",
      "data/train/euphonium\n",
      "data/train/crayfish\n",
      "data/train/ant\n",
      "data/train/accordion\n",
      "data/train/bass\n",
      "data/train/schooner\n",
      "data/train/ibis\n",
      "data/train/laptop\n",
      "data/train/yin_yang\n",
      "data/train/hawksbill\n",
      "data/train/nautilus\n",
      "data/train/stegosaurus\n",
      "data/train/Faces\n",
      "data/train/Leopards\n",
      "data/train/anchor\n",
      "data/train/dolphin\n",
      "data/train/dollar_bill\n",
      "data/train/watch\n",
      "data/train/menorah\n",
      "data/train/wrench\n",
      "data/train/stapler\n",
      "data/train/crocodile_head\n",
      "data/train/platypus\n",
      "data/train/gerenuk\n",
      "data/train/butterfly\n",
      "data/train/kangaroo\n",
      "data/train/beaver\n",
      "data/train/lotus\n",
      "data/train/trilobite\n",
      "data/train/electric_guitar\n",
      "data/train/gramophone\n",
      "data/train/ceiling_fan\n",
      "data/train/flamingo_head\n",
      "data/train/camera\n",
      "data/train/bonsai\n",
      "data/train/helicopter\n"
     ]
    }
   ],
   "source": [
    "for item in data_root.iterdir():\n",
    "    print(item)"
   ]
  },
  {
   "cell_type": "code",
   "execution_count": 4,
   "metadata": {},
   "outputs": [
    {
     "data": {
      "text/plain": [
       "7411"
      ]
     },
     "execution_count": 4,
     "metadata": {},
     "output_type": "execute_result"
    }
   ],
   "source": [
    "import random\n",
    "\n",
    "all_image_paths = list(data_root.glob('*/*'))\n",
    "all_image_paths = [str(path) for path in all_image_paths]\n",
    "random.shuffle(all_image_paths)\n",
    "\n",
    "image_count = len(all_image_paths)\n",
    "image_count"
   ]
  },
  {
   "cell_type": "code",
   "execution_count": 7,
   "metadata": {},
   "outputs": [
    {
     "data": {
      "text/plain": [
       "['data/train/airplanes/image_0710.jpg',\n",
       " 'data/train/cup/image_0048.jpg',\n",
       " 'data/train/ketch/image_0051.jpg',\n",
       " 'data/train/hawksbill/image_0016.jpg',\n",
       " 'data/train/grand_piano/image_0075.jpg',\n",
       " 'data/train/scorpion/image_0049.jpg',\n",
       " 'data/train/cougar_face/image_0043.jpg',\n",
       " 'data/train/Faces/image_0254.jpg',\n",
       " 'data/train/airplanes/image_0401.jpg',\n",
       " 'data/train/watch/image_0019.jpg',\n",
       " 'data/train/accordion/image_0028.jpg',\n",
       " 'data/train/flamingo/image_0001.jpg',\n",
       " 'data/train/ewer/image_0079.jpg',\n",
       " 'data/train/airplanes/image_0302.jpg',\n",
       " 'data/train/ceiling_fan/image_0034.jpg',\n",
       " 'data/train/Faces_easy/image_0420.jpg',\n",
       " 'data/train/airplanes/image_0441.jpg',\n",
       " 'data/train/menorah/image_0069.jpg',\n",
       " 'data/train/menorah/image_0064.jpg',\n",
       " 'data/train/Faces_easy/image_0049.jpg',\n",
       " 'data/train/metronome/image_0015.jpg',\n",
       " 'data/train/snoopy/image_0002.jpg',\n",
       " 'data/train/water_lilly/image_0029.jpg',\n",
       " 'data/train/octopus/image_0018.jpg',\n",
       " 'data/train/euphonium/image_0008.jpg',\n",
       " 'data/train/airplanes/image_0766.jpg',\n",
       " 'data/train/sunflower/image_0085.jpg',\n",
       " 'data/train/watch/image_0081.jpg',\n",
       " 'data/train/Faces_easy/image_0029.jpg',\n",
       " 'data/train/crayfish/image_0038.jpg',\n",
       " 'data/train/soccer_ball/image_0030.jpg',\n",
       " 'data/train/elephant/image_0056.jpg']"
      ]
     },
     "execution_count": 7,
     "metadata": {},
     "output_type": "execute_result"
    }
   ],
   "source": [
    "all_image_paths[:32]"
   ]
  },
  {
   "cell_type": "code",
   "execution_count": 10,
   "metadata": {},
   "outputs": [
    {
     "data": {
      "image/jpeg": "[encoded data removed]",
      "text/plain": [
       "<IPython.core.display.Image object>"
      ]
     },
     "metadata": {},
     "output_type": "display_data"
    },
    {
     "name": "stdout",
     "output_type": "stream",
     "text": [
      "airplanes/image_0757.jpg\n",
      "\n"
     ]
    },
    {
     "data": {
      "image/jpeg": "[encoded data removed]",
      "text/plain": [
       "<IPython.core.display.Image object>"
      ]
     },
     "metadata": {},
     "output_type": "display_data"
    },
    {
     "name": "stdout",
     "output_type": "stream",
     "text": [
      "ketch/image_0100.jpg\n",
      "\n"
     ]
    },
    {
     "data": {
      "image/jpeg": "[encoded data removed]",
      "text/plain": [
       "<IPython.core.display.Image object>"
      ]
     },
     "metadata": {},
     "output_type": "display_data"
    },
    {
     "name": "stdout",
     "output_type": "stream",
     "text": [
      "scissors/image_0037.jpg\n",
      "\n"
     ]
    }
   ],
   "source": [
    "import IPython.display as display\n",
    "\n",
    "for n in range(3):\n",
    "    image_path = random.choice(all_image_paths)\n",
    "    display.display(display.Image(image_path))\n",
    "    print(image_path[11:])\n",
    "    print()"
   ]
  },
  {
   "cell_type": "code",
   "execution_count": 11,
   "metadata": {},
   "outputs": [
    {
     "data": {
      "text/plain": [
       "['Faces',\n",
       " 'Faces_easy',\n",
       " 'Leopards',\n",
       " 'Motorbikes',\n",
       " 'accordion',\n",
       " 'airplanes',\n",
       " 'anchor',\n",
       " 'ant',\n",
       " 'barrel',\n",
       " 'bass',\n",
       " 'beaver',\n",
       " 'binocular',\n",
       " 'bonsai',\n",
       " 'brain',\n",
       " 'brontosaurus',\n",
       " 'buddha',\n",
       " 'butterfly',\n",
       " 'camera',\n",
       " 'cannon',\n",
       " 'car_side',\n",
       " 'ceiling_fan',\n",
       " 'cellphone',\n",
       " 'chair',\n",
       " 'chandelier',\n",
       " 'cougar_body',\n",
       " 'cougar_face',\n",
       " 'crab',\n",
       " 'crayfish',\n",
       " 'crocodile',\n",
       " 'crocodile_head',\n",
       " 'cup',\n",
       " 'dalmatian',\n",
       " 'dollar_bill',\n",
       " 'dolphin',\n",
       " 'dragonfly',\n",
       " 'electric_guitar',\n",
       " 'elephant',\n",
       " 'emu',\n",
       " 'euphonium',\n",
       " 'ewer',\n",
       " 'ferry',\n",
       " 'flamingo',\n",
       " 'flamingo_head',\n",
       " 'garfield',\n",
       " 'gerenuk',\n",
       " 'gramophone',\n",
       " 'grand_piano',\n",
       " 'hawksbill',\n",
       " 'headphone',\n",
       " 'hedgehog',\n",
       " 'helicopter',\n",
       " 'ibis',\n",
       " 'inline_skate',\n",
       " 'joshua_tree',\n",
       " 'kangaroo',\n",
       " 'ketch',\n",
       " 'lamp',\n",
       " 'laptop',\n",
       " 'llama',\n",
       " 'lobster',\n",
       " 'lotus',\n",
       " 'mandolin',\n",
       " 'mayfly',\n",
       " 'menorah',\n",
       " 'metronome',\n",
       " 'minaret',\n",
       " 'nautilus',\n",
       " 'octopus',\n",
       " 'okapi',\n",
       " 'pagoda',\n",
       " 'panda',\n",
       " 'pigeon',\n",
       " 'pizza',\n",
       " 'platypus',\n",
       " 'pyramid',\n",
       " 'revolver',\n",
       " 'rhino',\n",
       " 'rooster',\n",
       " 'saxophone',\n",
       " 'schooner',\n",
       " 'scissors',\n",
       " 'scorpion',\n",
       " 'sea_horse',\n",
       " 'snoopy',\n",
       " 'soccer_ball',\n",
       " 'stapler',\n",
       " 'starfish',\n",
       " 'stegosaurus',\n",
       " 'stop_sign',\n",
       " 'strawberry',\n",
       " 'sunflower',\n",
       " 'tick',\n",
       " 'trilobite',\n",
       " 'umbrella',\n",
       " 'watch',\n",
       " 'water_lilly',\n",
       " 'wheelchair',\n",
       " 'wild_cat',\n",
       " 'windsor_chair',\n",
       " 'wrench',\n",
       " 'yin_yang']"
      ]
     },
     "execution_count": 11,
     "metadata": {},
     "output_type": "execute_result"
    }
   ],
   "source": []
  },
  {
   "cell_type": "code",
   "execution_count": null,
   "metadata": {},
   "outputs": [],
   "source": []
  }
 ],
 "metadata": {
  "kernelspec": {
   "display_name": "Python 3",
   "language": "python",
   "name": "python3"
  },
  "language_info": {
   "codemirror_mode": {
    "name": "ipython",
    "version": 3
   },
   "file_extension": ".py",
   "mimetype": "text/x-python",
   "name": "python",
   "nbconvert_exporter": "python",
   "pygments_lexer": "ipython3",
   "version": "3.6.8"
  }
 },
 "nbformat": 4,
 "nbformat_minor": 2
}
